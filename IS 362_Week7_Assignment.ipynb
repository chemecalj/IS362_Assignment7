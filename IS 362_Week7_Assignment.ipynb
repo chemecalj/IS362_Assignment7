{
 "cells": [
  {
   "cell_type": "markdown",
   "metadata": {},
   "source": [
    "# IS 362 Week 7 Assignment"
   ]
  },
  {
   "cell_type": "markdown",
   "metadata": {},
   "source": [
    "Choose six recent popular movies. Ask at least five people that you know (friends, family, classmates, imaginary friends) to rate each of these movies that they have seen on a scale of 1 to 5. There should be at least one movie that not everyone has seen!\n",
    "Take the results (observations) and store them somewhere (like a SQL database, or a .CSV file). Load the information into a pandas dataframe. Your solution should include Python and pandas code that accomplishes the following:\n",
    "1. Load the ratings by user information that you collected into a pandas dataframe.\n",
    "2. Show the average ratings for each user and each movie.\n",
    "3. Create a new pandas dataframe, with normalized ratings for each user. Again, show the average ratings for each user and each movie.\n",
    "4. Provide a text-based conclusion: explain what might be advantages and disadvantages of using normalized ratings instead of the actual ratings.\n",
    "5. [Extra credit] Create another new pandas dataframe, with standardized ratings for each user. Once again, show the average ratings for each user and each movie."
   ]
  },
  {
   "cell_type": "markdown",
   "metadata": {},
   "source": [
    "I will start this assignment by loading the modules that will be used to achieve the assignment tasks."
   ]
  },
  {
   "cell_type": "code",
   "execution_count": 31,
   "metadata": {
    "collapsed": true
   },
   "outputs": [],
   "source": [
    "import pandas as pd\n",
    "import numpy as np\n",
    "pd.options.display.float_format = '{:,.2f}'.format"
   ]
  },
  {
   "cell_type": "markdown",
   "metadata": {},
   "source": [
    "Now I can open my movie ratings csv and begin to complete the tasks required of the assignment."
   ]
  },
  {
   "cell_type": "code",
   "execution_count": 32,
   "metadata": {},
   "outputs": [
    {
     "data": {
      "text/html": [
       "<div>\n",
       "<style>\n",
       "    .dataframe thead tr:only-child th {\n",
       "        text-align: right;\n",
       "    }\n",
       "\n",
       "    .dataframe thead th {\n",
       "        text-align: left;\n",
       "    }\n",
       "\n",
       "    .dataframe tbody tr th {\n",
       "        vertical-align: top;\n",
       "    }\n",
       "</style>\n",
       "<table border=\"1\" class=\"dataframe\">\n",
       "  <thead>\n",
       "    <tr style=\"text-align: right;\">\n",
       "      <th></th>\n",
       "      <th>Black Panther</th>\n",
       "      <th>The Strangers</th>\n",
       "      <th>Ready Player One</th>\n",
       "      <th>Tomb Raider 2018</th>\n",
       "      <th>Death Wish 2018</th>\n",
       "      <th>Avengers: Infinity War</th>\n",
       "    </tr>\n",
       "  </thead>\n",
       "  <tbody>\n",
       "    <tr>\n",
       "      <th>John</th>\n",
       "      <td>5</td>\n",
       "      <td>4.00</td>\n",
       "      <td>4.00</td>\n",
       "      <td>4.00</td>\n",
       "      <td>4.00</td>\n",
       "      <td>nan</td>\n",
       "    </tr>\n",
       "    <tr>\n",
       "      <th>Jeanine</th>\n",
       "      <td>4</td>\n",
       "      <td>3.00</td>\n",
       "      <td>3.00</td>\n",
       "      <td>nan</td>\n",
       "      <td>5.00</td>\n",
       "      <td>2.00</td>\n",
       "    </tr>\n",
       "    <tr>\n",
       "      <th>Eric</th>\n",
       "      <td>2</td>\n",
       "      <td>3.00</td>\n",
       "      <td>nan</td>\n",
       "      <td>nan</td>\n",
       "      <td>nan</td>\n",
       "      <td>nan</td>\n",
       "    </tr>\n",
       "    <tr>\n",
       "      <th>Sarah</th>\n",
       "      <td>5</td>\n",
       "      <td>2.00</td>\n",
       "      <td>nan</td>\n",
       "      <td>nan</td>\n",
       "      <td>4.00</td>\n",
       "      <td>4.00</td>\n",
       "    </tr>\n",
       "    <tr>\n",
       "      <th>Richard</th>\n",
       "      <td>3</td>\n",
       "      <td>4.00</td>\n",
       "      <td>2.00</td>\n",
       "      <td>4.00</td>\n",
       "      <td>5.00</td>\n",
       "      <td>5.00</td>\n",
       "    </tr>\n",
       "    <tr>\n",
       "      <th>Ariel</th>\n",
       "      <td>3</td>\n",
       "      <td>nan</td>\n",
       "      <td>5.00</td>\n",
       "      <td>5.00</td>\n",
       "      <td>nan</td>\n",
       "      <td>3.00</td>\n",
       "    </tr>\n",
       "  </tbody>\n",
       "</table>\n",
       "</div>"
      ],
      "text/plain": [
       "         Black Panther  The Strangers  Ready Player One  Tomb Raider 2018  \\\n",
       "John                 5           4.00              4.00              4.00   \n",
       "Jeanine              4           3.00              3.00               nan   \n",
       "Eric                 2           3.00               nan               nan   \n",
       "Sarah                5           2.00               nan               nan   \n",
       "Richard              3           4.00              2.00              4.00   \n",
       "Ariel                3            nan              5.00              5.00   \n",
       "\n",
       "         Death Wish 2018  Avengers: Infinity War  \n",
       "John                4.00                     nan  \n",
       "Jeanine             5.00                    2.00  \n",
       "Eric                 nan                     nan  \n",
       "Sarah               4.00                    4.00  \n",
       "Richard             5.00                    5.00  \n",
       "Ariel                nan                    3.00  "
      ]
     },
     "execution_count": 32,
     "metadata": {},
     "output_type": "execute_result"
    }
   ],
   "source": [
    "movie_ratings = pd.read_csv (\"C:/Users/johnj/IS 362 Spring 2018/Week 7 Assignment/movie_ratings.csv\", index_col=0)\n",
    "movie_ratings"
   ]
  },
  {
   "cell_type": "markdown",
   "metadata": {},
   "source": [
    "Our table looks good and we have our friends representing the rows and movie titles representing the columns. Each movie is rated by a friend with some movies receiving not ratings at all. Initial criteria for the assignment seems to be fulfilled."
   ]
  },
  {
   "cell_type": "markdown",
   "metadata": {},
   "source": [
    "# Average Ratings of Movies By User and Movie"
   ]
  },
  {
   "cell_type": "markdown",
   "metadata": {},
   "source": [
    "Using the \"mean\" method we can easily achieve this next step in the assignment."
   ]
  },
  {
   "cell_type": "code",
   "execution_count": 33,
   "metadata": {},
   "outputs": [
    {
     "data": {
      "text/plain": [
       "John      4.20\n",
       "Jeanine   3.40\n",
       "Eric      2.50\n",
       "Sarah     3.75\n",
       "Richard   3.83\n",
       "Ariel     4.00\n",
       "dtype: float64"
      ]
     },
     "execution_count": 33,
     "metadata": {},
     "output_type": "execute_result"
    }
   ],
   "source": [
    "average_by_friend = movie_ratings.mean(axis=1)\n",
    "average_by_friend"
   ]
  },
  {
   "cell_type": "markdown",
   "metadata": {},
   "source": [
    "Our output shows an average review rating for each user across all movies."
   ]
  },
  {
   "cell_type": "markdown",
   "metadata": {},
   "source": [
    "Now we will display the ratings for each movie according to all friends."
   ]
  },
  {
   "cell_type": "code",
   "execution_count": 34,
   "metadata": {},
   "outputs": [
    {
     "data": {
      "text/plain": [
       "Black Panther            3.67\n",
       "The Strangers            3.20\n",
       "Ready Player One         3.50\n",
       "Tomb Raider 2018         4.33\n",
       "Death Wish 2018          4.50\n",
       "Avengers: Infinity War   3.50\n",
       "dtype: float64"
      ]
     },
     "execution_count": 34,
     "metadata": {},
     "output_type": "execute_result"
    }
   ],
   "source": [
    "average_by_movie = movie_ratings.mean()\n",
    "average_by_movie"
   ]
  },
  {
   "cell_type": "markdown",
   "metadata": {},
   "source": [
    "This has produced a list of each movie with the average rating calculated across each friend."
   ]
  },
  {
   "cell_type": "markdown",
   "metadata": {},
   "source": [
    "# Normalized Ratings by Viewer and Movie"
   ]
  },
  {
   "cell_type": "markdown",
   "metadata": {},
   "source": [
    "Now I will sort the data with normalized results and see what the outcome produces."
   ]
  },
  {
   "cell_type": "code",
   "execution_count": 35,
   "metadata": {},
   "outputs": [
    {
     "data": {
      "text/html": [
       "<div>\n",
       "<style>\n",
       "    .dataframe thead tr:only-child th {\n",
       "        text-align: right;\n",
       "    }\n",
       "\n",
       "    .dataframe thead th {\n",
       "        text-align: left;\n",
       "    }\n",
       "\n",
       "    .dataframe tbody tr th {\n",
       "        vertical-align: top;\n",
       "    }\n",
       "</style>\n",
       "<table border=\"1\" class=\"dataframe\">\n",
       "  <thead>\n",
       "    <tr style=\"text-align: right;\">\n",
       "      <th></th>\n",
       "      <th>Black Panther</th>\n",
       "      <th>The Strangers</th>\n",
       "      <th>Ready Player One</th>\n",
       "      <th>Tomb Raider 2018</th>\n",
       "      <th>Death Wish 2018</th>\n",
       "      <th>Avengers: Infinity War</th>\n",
       "    </tr>\n",
       "  </thead>\n",
       "  <tbody>\n",
       "    <tr>\n",
       "      <th>John</th>\n",
       "      <td>1.00</td>\n",
       "      <td>1.00</td>\n",
       "      <td>0.67</td>\n",
       "      <td>0.00</td>\n",
       "      <td>0.00</td>\n",
       "      <td>nan</td>\n",
       "    </tr>\n",
       "    <tr>\n",
       "      <th>Jeanine</th>\n",
       "      <td>0.67</td>\n",
       "      <td>0.50</td>\n",
       "      <td>0.33</td>\n",
       "      <td>nan</td>\n",
       "      <td>1.00</td>\n",
       "      <td>0.00</td>\n",
       "    </tr>\n",
       "    <tr>\n",
       "      <th>Eric</th>\n",
       "      <td>0.00</td>\n",
       "      <td>0.50</td>\n",
       "      <td>nan</td>\n",
       "      <td>nan</td>\n",
       "      <td>nan</td>\n",
       "      <td>nan</td>\n",
       "    </tr>\n",
       "    <tr>\n",
       "      <th>Sarah</th>\n",
       "      <td>1.00</td>\n",
       "      <td>0.00</td>\n",
       "      <td>nan</td>\n",
       "      <td>nan</td>\n",
       "      <td>0.00</td>\n",
       "      <td>0.67</td>\n",
       "    </tr>\n",
       "    <tr>\n",
       "      <th>Richard</th>\n",
       "      <td>0.33</td>\n",
       "      <td>1.00</td>\n",
       "      <td>0.00</td>\n",
       "      <td>0.00</td>\n",
       "      <td>1.00</td>\n",
       "      <td>1.00</td>\n",
       "    </tr>\n",
       "    <tr>\n",
       "      <th>Ariel</th>\n",
       "      <td>0.33</td>\n",
       "      <td>nan</td>\n",
       "      <td>1.00</td>\n",
       "      <td>1.00</td>\n",
       "      <td>nan</td>\n",
       "      <td>0.33</td>\n",
       "    </tr>\n",
       "  </tbody>\n",
       "</table>\n",
       "</div>"
      ],
      "text/plain": [
       "         Black Panther  The Strangers  Ready Player One  Tomb Raider 2018  \\\n",
       "John              1.00           1.00              0.67              0.00   \n",
       "Jeanine           0.67           0.50              0.33               nan   \n",
       "Eric              0.00           0.50               nan               nan   \n",
       "Sarah             1.00           0.00               nan               nan   \n",
       "Richard           0.33           1.00              0.00              0.00   \n",
       "Ariel             0.33            nan              1.00              1.00   \n",
       "\n",
       "         Death Wish 2018  Avengers: Infinity War  \n",
       "John                0.00                     nan  \n",
       "Jeanine             1.00                    0.00  \n",
       "Eric                 nan                     nan  \n",
       "Sarah               0.00                    0.67  \n",
       "Richard             1.00                    1.00  \n",
       "Ariel                nan                    0.33  "
      ]
     },
     "execution_count": 35,
     "metadata": {},
     "output_type": "execute_result"
    }
   ],
   "source": [
    "normalized_ratings = (movie_ratings - movie_ratings.min()) / (movie_ratings.max() - movie_ratings.min())\n",
    "normalized_ratings"
   ]
  },
  {
   "cell_type": "markdown",
   "metadata": {},
   "source": [
    "My table seems to have normalized the data and now we can display the results according to each criteria. First we will display our friend data."
   ]
  },
  {
   "cell_type": "code",
   "execution_count": 36,
   "metadata": {},
   "outputs": [
    {
     "data": {
      "text/plain": [
       "John      0.53\n",
       "Jeanine   0.50\n",
       "Eric      0.25\n",
       "Sarah     0.42\n",
       "Richard   0.56\n",
       "Ariel     0.67\n",
       "dtype: float64"
      ]
     },
     "execution_count": 36,
     "metadata": {},
     "output_type": "execute_result"
    }
   ],
   "source": [
    "normalized_by_friend = normalized_ratings.mean(axis=1)\n",
    "normalized_by_friend"
   ]
  },
  {
   "cell_type": "markdown",
   "metadata": {},
   "source": [
    "Next I will display the resulting data by movie."
   ]
  },
  {
   "cell_type": "code",
   "execution_count": 37,
   "metadata": {},
   "outputs": [
    {
     "data": {
      "text/plain": [
       "Black Panther            0.56\n",
       "The Strangers            0.60\n",
       "Ready Player One         0.50\n",
       "Tomb Raider 2018         0.33\n",
       "Death Wish 2018          0.50\n",
       "Avengers: Infinity War   0.50\n",
       "dtype: float64"
      ]
     },
     "execution_count": 37,
     "metadata": {},
     "output_type": "execute_result"
    }
   ],
   "source": [
    "normalized_ratings_by_movie = normalized_ratings.mean()\n",
    "normalized_ratings_by_movie"
   ]
  },
  {
   "cell_type": "markdown",
   "metadata": {},
   "source": [
    "My data has been normalized and I have displayed the ratings by friend and movie. This section of the assignment is complete."
   ]
  },
  {
   "cell_type": "markdown",
   "metadata": {},
   "source": [
    "# Standardized Ratings by Viewer and Movie (Extra Credit)"
   ]
  },
  {
   "cell_type": "markdown",
   "metadata": {},
   "source": [
    "Once again I will transform the data to display it in a standardized format."
   ]
  },
  {
   "cell_type": "code",
   "execution_count": 38,
   "metadata": {},
   "outputs": [
    {
     "data": {
      "text/html": [
       "<div>\n",
       "<style>\n",
       "    .dataframe thead tr:only-child th {\n",
       "        text-align: right;\n",
       "    }\n",
       "\n",
       "    .dataframe thead th {\n",
       "        text-align: left;\n",
       "    }\n",
       "\n",
       "    .dataframe tbody tr th {\n",
       "        vertical-align: top;\n",
       "    }\n",
       "</style>\n",
       "<table border=\"1\" class=\"dataframe\">\n",
       "  <thead>\n",
       "    <tr style=\"text-align: right;\">\n",
       "      <th></th>\n",
       "      <th>Black Panther</th>\n",
       "      <th>The Strangers</th>\n",
       "      <th>Ready Player One</th>\n",
       "      <th>Tomb Raider 2018</th>\n",
       "      <th>Death Wish 2018</th>\n",
       "      <th>Avengers: Infinity War</th>\n",
       "    </tr>\n",
       "  </thead>\n",
       "  <tbody>\n",
       "    <tr>\n",
       "      <th>John</th>\n",
       "      <td>1.10</td>\n",
       "      <td>0.96</td>\n",
       "      <td>0.39</td>\n",
       "      <td>-0.58</td>\n",
       "      <td>-0.87</td>\n",
       "      <td>nan</td>\n",
       "    </tr>\n",
       "    <tr>\n",
       "      <th>Jeanine</th>\n",
       "      <td>0.28</td>\n",
       "      <td>-0.24</td>\n",
       "      <td>-0.39</td>\n",
       "      <td>nan</td>\n",
       "      <td>0.87</td>\n",
       "      <td>-1.16</td>\n",
       "    </tr>\n",
       "    <tr>\n",
       "      <th>Eric</th>\n",
       "      <td>-1.38</td>\n",
       "      <td>-0.24</td>\n",
       "      <td>nan</td>\n",
       "      <td>nan</td>\n",
       "      <td>nan</td>\n",
       "      <td>nan</td>\n",
       "    </tr>\n",
       "    <tr>\n",
       "      <th>Sarah</th>\n",
       "      <td>1.10</td>\n",
       "      <td>-1.43</td>\n",
       "      <td>nan</td>\n",
       "      <td>nan</td>\n",
       "      <td>-0.87</td>\n",
       "      <td>0.39</td>\n",
       "    </tr>\n",
       "    <tr>\n",
       "      <th>Richard</th>\n",
       "      <td>-0.55</td>\n",
       "      <td>0.96</td>\n",
       "      <td>-1.16</td>\n",
       "      <td>-0.58</td>\n",
       "      <td>0.87</td>\n",
       "      <td>1.16</td>\n",
       "    </tr>\n",
       "    <tr>\n",
       "      <th>Ariel</th>\n",
       "      <td>-0.55</td>\n",
       "      <td>nan</td>\n",
       "      <td>1.16</td>\n",
       "      <td>1.15</td>\n",
       "      <td>nan</td>\n",
       "      <td>-0.39</td>\n",
       "    </tr>\n",
       "  </tbody>\n",
       "</table>\n",
       "</div>"
      ],
      "text/plain": [
       "         Black Panther  The Strangers  Ready Player One  Tomb Raider 2018  \\\n",
       "John              1.10           0.96              0.39             -0.58   \n",
       "Jeanine           0.28          -0.24             -0.39               nan   \n",
       "Eric             -1.38          -0.24               nan               nan   \n",
       "Sarah             1.10          -1.43               nan               nan   \n",
       "Richard          -0.55           0.96             -1.16             -0.58   \n",
       "Ariel            -0.55            nan              1.16              1.15   \n",
       "\n",
       "         Death Wish 2018  Avengers: Infinity War  \n",
       "John               -0.87                     nan  \n",
       "Jeanine             0.87                   -1.16  \n",
       "Eric                 nan                     nan  \n",
       "Sarah              -0.87                    0.39  \n",
       "Richard             0.87                    1.16  \n",
       "Ariel                nan                   -0.39  "
      ]
     },
     "execution_count": 38,
     "metadata": {},
     "output_type": "execute_result"
    }
   ],
   "source": [
    "standardized_ratings = (movie_ratings - movie_ratings.mean()) / movie_ratings.std()\n",
    "standardized_ratings"
   ]
  },
  {
   "cell_type": "markdown",
   "metadata": {},
   "source": [
    "My table seems to have standardized the data and now we can display the results according to each criteria. First we will display our friend data."
   ]
  },
  {
   "cell_type": "code",
   "execution_count": 39,
   "metadata": {},
   "outputs": [
    {
     "data": {
      "text/plain": [
       "John       0.20\n",
       "Jeanine   -0.13\n",
       "Eric      -0.81\n",
       "Sarah     -0.20\n",
       "Richard    0.12\n",
       "Ariel      0.34\n",
       "dtype: float64"
      ]
     },
     "execution_count": 39,
     "metadata": {},
     "output_type": "execute_result"
    }
   ],
   "source": [
    "standardized_by_friend = standardized_ratings.mean(axis=1)\n",
    "standardized_by_friend"
   ]
  },
  {
   "cell_type": "markdown",
   "metadata": {},
   "source": [
    "Lastly, I will display the resulting data by movie."
   ]
  },
  {
   "cell_type": "code",
   "execution_count": 40,
   "metadata": {},
   "outputs": [
    {
     "data": {
      "text/plain": [
       "Black Panther             0.00\n",
       "The Strangers            -0.00\n",
       "Ready Player One          0.00\n",
       "Tomb Raider 2018          0.00\n",
       "Death Wish 2018           0.00\n",
       "Avengers: Infinity War    0.00\n",
       "dtype: float64"
      ]
     },
     "execution_count": 40,
     "metadata": {},
     "output_type": "execute_result"
    }
   ],
   "source": [
    "standardized_by_movie = standardized_ratings.mean()\n",
    "standardized_by_movie"
   ]
  },
  {
   "cell_type": "markdown",
   "metadata": {},
   "source": [
    "# Conclusion"
   ]
  },
  {
   "cell_type": "markdown",
   "metadata": {},
   "source": [
    "Actual rating may be useful in situations like this example where you want to get a real world result and you are working with one data set. The actual ratings portion shows us an average of the real world numbers and can be indentified easily when comparing to the original csv. Normalizing the data may be useful when comparing multiple data sets or data sets where the scale is not uniform. Normalizing the data puts the original data in a scale from 0-1. This can be useful to gain an accurate comparison among multiple data sets and different values or scales."
   ]
  }
 ],
 "metadata": {
  "kernelspec": {
   "display_name": "Python 3",
   "language": "python",
   "name": "python3"
  },
  "language_info": {
   "codemirror_mode": {
    "name": "ipython",
    "version": 3
   },
   "file_extension": ".py",
   "mimetype": "text/x-python",
   "name": "python",
   "nbconvert_exporter": "python",
   "pygments_lexer": "ipython3",
   "version": "3.6.3"
  }
 },
 "nbformat": 4,
 "nbformat_minor": 2
}
